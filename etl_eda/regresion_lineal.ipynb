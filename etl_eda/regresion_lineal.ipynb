{
 "cells": [
  {
   "cell_type": "code",
   "execution_count": 2,
   "metadata": {},
   "outputs": [],
   "source": [
    "from sklearn.discriminant_analysis import StandardScaler\n",
    "from sklearn.linear_model import LinearRegression\n",
    "import pandas as pd\n",
    "import pickle\n",
    "import numpy as np\n",
    "import pickle\n",
    "from sklearn.preprocessing import StandardScaler"
   ]
  },
  {
   "cell_type": "code",
   "execution_count": 7,
   "metadata": {},
   "outputs": [],
   "source": [
    "# Carga el dataset para las categorias\n",
    "df_categoria = pd.read_parquet('data/categoria_modelo.parquet')\n",
    "\n",
    "# Carga el dataset para las sentimiento\n",
    "df_sentimiento = pd.read_parquet('data/sentimiento_modelo.parquet')\n",
    "\n",
    "# Cargar el dataset para el modelo\n",
    "df_modelo = pd.read_parquet('data/modelo.parquet')"
   ]
  },
  {
   "cell_type": "code",
   "execution_count": 10,
   "metadata": {},
   "outputs": [],
   "source": [
    "# Extraer la columna 'precio' como la variable objetivo (y)\n",
    "y = df_modelo['precio']\n",
    "\n",
    "# Eliminar la columna 'precio' del DataFrame para dejar solo las características (X)\n",
    "X = df_modelo.drop(columns=['precio'])\n",
    "\n",
    "# Crear un objeto StandardScaler para la columna 'metascore' y ajustarlo durante el entrenamiento\n",
    "scaler_metascore = StandardScaler()\n",
    "X[['metascore']] = scaler_metascore.fit_transform(X[['metascore']])\n",
    "\n",
    "# Crear el modelo de regresión lineal y entrenarlo\n",
    "modelo_regresion = LinearRegression()\n",
    "modelo_regresion.fit(X, y)\n",
    "\n",
    "# Predecir con el modelo sobre el conjunto de entrenamiento\n",
    "y_pred = modelo_regresion.predict(X)\n",
    "\n",
    "# Calcular el RMSE\n",
    "rmse = np.sqrt(np.mean((y - y_pred)**2))\n",
    "\n",
    "# Cargar el DataFrame X desde el archivo Parquet\n",
    "X = pd.read_parquet('modelo/X_data.parquet')"
   ]
  },
  {
   "cell_type": "code",
   "execution_count": 6,
   "metadata": {},
   "outputs": [],
   "source": [
    "# Guardar el modelo entrenado y el valor RMSE en archivos pickle\n",
    "with open('modelo/modelo_regresion_precio.pkl', 'wb') as file:\n",
    "    pickle.dump(modelo_regresion, file)\n",
    "    \n",
    "with open('modelo/scaler_metascore.pkl', 'wb') as file:\n",
    "    pickle.dump(scaler_metascore, file)\n",
    "    \n",
    "with open('modelo/rmse.pkl', 'wb') as file:\n",
    "    pickle.dump(rmse, file)\n",
    "\n",
    "# Guardar el DataFrame X en un archivo Parquet\n",
    "X.to_parquet('modelo/X_data.parquet')"
   ]
  },
  {
   "cell_type": "code",
   "execution_count": null,
   "metadata": {},
   "outputs": [],
   "source": [
    "def cargar_datos_y_entrenar_modelo():\n",
    "    # Extraer la columna 'precio' como la variable objetivo (y)\n",
    "    y = df_modelo['precio']\n",
    "\n",
    "    # Eliminar la columna 'precio' del DataFrame para dejar solo las características (X)\n",
    "    X = df_modelo.drop(columns=['precio'])\n",
    "\n",
    "    # Crear un objeto StandardScaler para la columna 'metascore' y ajustarlo durante el entrenamiento\n",
    "    scaler_metascore = StandardScaler()\n",
    "    X[['metascore']] = scaler_metascore.fit_transform(X[['metascore']])\n",
    "\n",
    "    # Crear el modelo de regresión lineal y entrenarlo\n",
    "    modelo_regresion = LinearRegression()\n",
    "    modelo_regresion.fit(X, y)\n",
    "\n",
    "    # Predecir con el modelo sobre el conjunto de entrenamiento\n",
    "    y_pred = modelo_regresion.predict(X)\n",
    "\n",
    "    # Calcular el RMSE\n",
    "    rmse = np.sqrt(np.mean((y - y_pred)**2))\n",
    "\n",
    "    # Guardar el modelo entrenado y el valor RMSE en archivos pickle\n",
    "    with open('modelo/modelo_regresion_precio.pkl', 'wb') as file:\n",
    "        pickle.dump(modelo_regresion, file)\n",
    "    \n",
    "    with open('modelo/scaler_metascore.pkl', 'wb') as file:\n",
    "        pickle.dump(scaler_metascore, file)\n",
    "    \n",
    "    with open('modelo/rmse.pkl', 'wb') as file:\n",
    "        pickle.dump(rmse, file)\n",
    "\n",
    "    # Guardar el DataFrame X en un archivo Parquet\n",
    "    X.to_parquet('modelo/X_data.parquet', index=False)\n",
    "\n",
    "    # Devolver los resultados\n",
    "    return df_modelo, modelo_regresion, scaler_metascore, X, rmse\n",
    "\n",
    "# Cargar datos y entrenar el modelo (solo se ejecuta una vez)\n",
    "df_modelo, modelo_regresion, scaler_metascore, X, rmse = cargar_datos_y_entrenar_modelo()\n",
    "\n"
   ]
  }
 ],
 "metadata": {
  "kernelspec": {
   "display_name": "venv",
   "language": "python",
   "name": "python3"
  },
  "language_info": {
   "codemirror_mode": {
    "name": "ipython",
    "version": 3
   },
   "file_extension": ".py",
   "mimetype": "text/x-python",
   "name": "python",
   "nbconvert_exporter": "python",
   "pygments_lexer": "ipython3",
   "version": "3.10.9"
  },
  "orig_nbformat": 4
 },
 "nbformat": 4,
 "nbformat_minor": 2
}
