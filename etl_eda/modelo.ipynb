{
 "cells": [
  {
   "cell_type": "code",
   "execution_count": 56,
   "metadata": {},
   "outputs": [],
   "source": [
    "import pandas as pd\n",
    "from sklearn.preprocessing import LabelEncoder\n",
    "import matplotlib.pyplot as plt\n",
    "import numpy as np"
   ]
  },
  {
   "cell_type": "code",
   "execution_count": 57,
   "metadata": {},
   "outputs": [
    {
     "data": {
      "text/html": [
       "<div>\n",
       "<style scoped>\n",
       "    .dataframe tbody tr th:only-of-type {\n",
       "        vertical-align: middle;\n",
       "    }\n",
       "\n",
       "    .dataframe tbody tr th {\n",
       "        vertical-align: top;\n",
       "    }\n",
       "\n",
       "    .dataframe thead th {\n",
       "        text-align: right;\n",
       "    }\n",
       "</style>\n",
       "<table border=\"1\" class=\"dataframe\">\n",
       "  <thead>\n",
       "    <tr style=\"text-align: right;\">\n",
       "      <th></th>\n",
       "      <th>titulo</th>\n",
       "      <th>especificacion</th>\n",
       "      <th>precio</th>\n",
       "      <th>acceso_anticipado</th>\n",
       "      <th>sentimiento</th>\n",
       "      <th>metascore</th>\n",
       "      <th>año</th>\n",
       "      <th>genero</th>\n",
       "    </tr>\n",
       "  </thead>\n",
       "  <tbody>\n",
       "    <tr>\n",
       "      <th>0</th>\n",
       "      <td>lost summoner kitty</td>\n",
       "      <td>single player</td>\n",
       "      <td>4.99</td>\n",
       "      <td>0</td>\n",
       "      <td>None</td>\n",
       "      <td>None</td>\n",
       "      <td>2018</td>\n",
       "      <td>action</td>\n",
       "    </tr>\n",
       "    <tr>\n",
       "      <th>1</th>\n",
       "      <td>lost summoner kitty</td>\n",
       "      <td>single player</td>\n",
       "      <td>4.99</td>\n",
       "      <td>0</td>\n",
       "      <td>None</td>\n",
       "      <td>None</td>\n",
       "      <td>2018</td>\n",
       "      <td>action</td>\n",
       "    </tr>\n",
       "  </tbody>\n",
       "</table>\n",
       "</div>"
      ],
      "text/plain": [
       "                titulo especificacion  precio  acceso_anticipado sentimiento  \\\n",
       "0  lost summoner kitty  single player    4.99                  0        None   \n",
       "1  lost summoner kitty  single player    4.99                  0        None   \n",
       "\n",
       "  metascore   año  genero  \n",
       "0      None  2018  action  \n",
       "1      None  2018  action  "
      ]
     },
     "execution_count": 57,
     "metadata": {},
     "output_type": "execute_result"
    }
   ],
   "source": [
    "# Carga el dataset steam_games.parquet\n",
    "df = pd.read_parquet('../data/steam_games.parquet')\n",
    "df.head(2)"
   ]
  },
  {
   "cell_type": "code",
   "execution_count": 58,
   "metadata": {},
   "outputs": [
    {
     "data": {
      "text/plain": [
       "array([None, 'positivo', 'neutro', 'muy positivo', 'muy negativo',\n",
       "       'negativo'], dtype=object)"
      ]
     },
     "execution_count": 58,
     "metadata": {},
     "output_type": "execute_result"
    }
   ],
   "source": [
    "df['sentimiento'].unique()"
   ]
  },
  {
   "cell_type": "code",
   "execution_count": 59,
   "metadata": {},
   "outputs": [
    {
     "data": {
      "text/plain": [
       "Index(['titulo', 'especificacion', 'precio', 'acceso_anticipado',\n",
       "       'sentimiento', 'metascore', 'año', 'genero'],\n",
       "      dtype='object')"
      ]
     },
     "execution_count": 59,
     "metadata": {},
     "output_type": "execute_result"
    }
   ],
   "source": [
    "df.columns"
   ]
  },
  {
   "cell_type": "code",
   "execution_count": 60,
   "metadata": {},
   "outputs": [],
   "source": [
    "# Elimina filas donde precio sea 0\n",
    "df = df[df['precio'] != 0.00]\n",
    "\n",
    "# Elimina filas donde precio sea nulo\n",
    "df.dropna(subset=['precio'], inplace=True)\n",
    "df.shape\n",
    "\n",
    "# Utiliza la función 'melt' para transformar el DataFrame\n",
    "df = pd.melt(df, id_vars=['precio', 'acceso_anticipado', 'sentimiento','metascore', 'año'],\n",
    "                          value_vars=['genero', 'especificacion'], var_name='atributo', value_name='categoria')\n",
    "\n",
    "# Elimina las columnas 'genero' y 'especificacion'\n",
    "df.drop(['atributo'], axis=1, inplace=True)\n",
    "\n",
    "# Elimina filas duplicadas\n",
    "df.drop_duplicates(inplace=True)"
   ]
  },
  {
   "cell_type": "code",
   "execution_count": 61,
   "metadata": {},
   "outputs": [
    {
     "data": {
      "text/plain": [
       "array(['action', 'casual', 'indie', 'simulation', 'strategy', 'adventure',\n",
       "       'free to play', 'sports', 'rpg', 'racing', None, 'early access',\n",
       "       'massively multiplayer', 'animation amp; modeling',\n",
       "       'web publishing', 'education', 'software training', 'utilities',\n",
       "       'design amp; illustration', 'audio production', 'video production',\n",
       "       'photo editing', 'accounting', 'fps', 'shooter',\n",
       "       'third person shooter', 'sniper', 'third person', 'pixel graphics',\n",
       "       'cute', '2d', 'physics', 'science', 'design  illustration',\n",
       "       'tutorial', 'classic', 'gore', '1990s', 'multiplayer',\n",
       "       'singleplayer', 'sci fi', 'aliens', 'first person', 'story rich',\n",
       "       'atmospheric', 'silent protagonist', 'great soundtrack',\n",
       "       'moddable', 'linear', 'retro', 'difficult', 'funny', 'clicker',\n",
       "       'turn based strategy', 'dark fantasy', 'turn based', 'fantasy',\n",
       "       'tactical', 'gothic', 'isometric', 'stealth', 'mystery',\n",
       "       'assassin', 'survival', 'comedy', 'replay value', 'stylized',\n",
       "       'city builder', 'building', 'economy', 'base building', 'wargame',\n",
       "       'cold war', 'real time with pause', 'rts', 'diplomacy', 'war',\n",
       "       'psychological horror', 'sandbox', 'co op', 'mod', 'online co op',\n",
       "       'animation  modeling', 'puzzle', 'horror', 'management',\n",
       "       'female protagonist', 'futuristic', 'cyberpunk', 'destruction',\n",
       "       'music', 'driving', 'arcade', 'mechs', 'robots', 'rome',\n",
       "       'underground', 'exploration', 'point  click', '4x', 'historical',\n",
       "       'trains', 'top down', 'underwater', 'turn based tactics',\n",
       "       'lovecraftian', 'lara croft', 'platformer', 'remake',\n",
       "       'action adventure', 'dinosaurs', 'parkour', '3d vision',\n",
       "       'hack and slash', 'spectacle fighter', 'character action game',\n",
       "       'beat em up', 'demons', 'controller', 'detective', 'episodic',\n",
       "       'zombies', 'fast paced', 'violent', '2.5d', 'world war ii',\n",
       "       'supernatural', 'alternate history', 'vampire', 'competitive',\n",
       "       'space', 'warhammer 40k', 'games workshop', 'real time',\n",
       "       'steampunk', 'dystopian', 'political', 'dark', 'action rpg',\n",
       "       'grand strategy', 'real time tactics', 'medieval', 'hidden object',\n",
       "       'survival horror', 'mature', 'open world', 'noir', 'bullet time',\n",
       "       'cinematic', 'crime', 'nudity', 'co op campaign', 'fmv', 'match 3',\n",
       "       'anime', 'touch friendly', 'hunting', 'military', 'western',\n",
       "       'family friendly', 'ninja', 'arena shooter', 'naval', 'realistic',\n",
       "       'agriculture', 'horses', 'flight', 'trackir', 'tanks',\n",
       "       'cult classic', 'puzzle platformer', 'post apocalyptic',\n",
       "       'inventory management', 'benchmark', 'space sim', 'choices matter',\n",
       "       'based on a novel', 'multiple endings', 'magic', 'lego', 'batman',\n",
       "       'local co op', 'superhero', 'comic book', 'local multiplayer',\n",
       "       'offroad', 'satire', 'surreal', 'trading', 'capitalism', 'bowling',\n",
       "       'dark humor', 'level editor', 'character customization',\n",
       "       'mythology', 'time attack', 'colorful', 'short', 'tower defense',\n",
       "       'top down shooter', 'villain protagonist', 'fighting',\n",
       "       'team based', 'split screen', 'party based rpg', 'crpg',\n",
       "       'walking simulator', 'psychological', 'memes', '3d platformer',\n",
       "       'psychedelic', 'score attack', 'abstract', 'mmorpg', 'pvp',\n",
       "       'hex grid', 'tactical rpg', 'turn based combat', 'pirates',\n",
       "       'america', '2d fighter', 'star wars', '1980s', 'mini golf', 'golf',\n",
       "       'time manipulation', 'time travel', 'on rails shooter',\n",
       "       '4 player local', 'relaxing', 'hand drawn', 'dungeon crawler',\n",
       "       'loot', 'cartoon', 'mouse only', 'experimental', 'dragons',\n",
       "       'romance', 'metroidvania', 'side scroller', 'parody',\n",
       "       'quick time events', 'world war i', 'shoot em up',\n",
       "       'music based procedural generation', 'twin stick shooter',\n",
       "       'rhythm', 'bullet hell', '6dof', 'modern', 'heist', 'politics',\n",
       "       'resource management', 'conspiracy', 'minimalist', 'jrpg',\n",
       "       'visual novel', 'hacking', 'card game', 'strategy rpg', 'lemmings',\n",
       "       'illuminati', 'sexual content', 'board game', 'movie', 'blood',\n",
       "       'moba', 'rogue like', 'crafting', 'runner', 'narration',\n",
       "       'asynchronous multiplayer', 'chess', 'trading card game',\n",
       "       'god game', 'soundtrack', 'procedural generation', 'rogue lite',\n",
       "       'perma death', 'kickstarter', 'investigation', 'thriller',\n",
       "       'cartoony', 'crowdfunded', 'transhumanism', 'interactive fiction',\n",
       "       'dating sim', 'werewolves', 'documentary', 'rpgmaker',\n",
       "       'gun customization', 'e sports', 'mars', 'class based',\n",
       "       'gamemaker', 'vr', 'game development', 'choose your own adventure',\n",
       "       'text based', 'football', 'soccer',\n",
       "       'intentionally awkward controls', 'gambling', 'software',\n",
       "       'sokoban', 'drama', 'nsfw', 'dynamic narration', 'typing',\n",
       "       'pinball', 'voxel', 'basketball', 'swordplay', 'fishing',\n",
       "       'programming', 'sailing', 'mining', 'dark comedy',\n",
       "       'grid based movement', 'otome', 'pve', 'voice control',\n",
       "       'artificial intelligence', 'cycling', 'gaming', 'lore rich',\n",
       "       'word game', 'pool', 'conversation', 'nonlinear', 'spelling',\n",
       "       'foreign', 'feature film', 'hardware', 'steam machine',\n",
       "       'philisophical', 'martial arts', 'mystery dungeon', 'wrestling',\n",
       "       'faith', 'experience', 'single player', 'steam achievements',\n",
       "       'multi player', 'online multi player',\n",
       "       'cross platform multiplayer', 'downloadable content',\n",
       "       'full controller support', 'steam trading cards',\n",
       "       'in app purchases', 'steam cloud', 'steam leaderboards',\n",
       "       'partial controller support', 'shared/split screen', 'nan',\n",
       "       'valve anti cheat enabled', 'captions available', 'steam workshop',\n",
       "       'includes level editor', 'stats', 'mmo', 'local multi player',\n",
       "       'commentary available', 'steam turn notifications',\n",
       "       'includes source sdk', 'steamvr collectibles', 'game demo'],\n",
       "      dtype=object)"
      ]
     },
     "execution_count": 61,
     "metadata": {},
     "output_type": "execute_result"
    }
   ],
   "source": [
    "# Muestra categorías sin duplicados\n",
    "df['categoria'].unique()"
   ]
  },
  {
   "cell_type": "code",
   "execution_count": 62,
   "metadata": {},
   "outputs": [
    {
     "data": {
      "text/html": [
       "<div>\n",
       "<style scoped>\n",
       "    .dataframe tbody tr th:only-of-type {\n",
       "        vertical-align: middle;\n",
       "    }\n",
       "\n",
       "    .dataframe tbody tr th {\n",
       "        vertical-align: top;\n",
       "    }\n",
       "\n",
       "    .dataframe thead th {\n",
       "        text-align: right;\n",
       "    }\n",
       "</style>\n",
       "<table border=\"1\" class=\"dataframe\">\n",
       "  <thead>\n",
       "    <tr style=\"text-align: right;\">\n",
       "      <th></th>\n",
       "      <th>precio</th>\n",
       "      <th>acceso_anticipado</th>\n",
       "      <th>sentimiento</th>\n",
       "      <th>metascore</th>\n",
       "      <th>año</th>\n",
       "      <th>categoria</th>\n",
       "    </tr>\n",
       "  </thead>\n",
       "  <tbody>\n",
       "    <tr>\n",
       "      <th>0</th>\n",
       "      <td>4.99</td>\n",
       "      <td>0</td>\n",
       "      <td>None</td>\n",
       "      <td>None</td>\n",
       "      <td>2018</td>\n",
       "      <td>action</td>\n",
       "    </tr>\n",
       "    <tr>\n",
       "      <th>5</th>\n",
       "      <td>4.99</td>\n",
       "      <td>0</td>\n",
       "      <td>None</td>\n",
       "      <td>None</td>\n",
       "      <td>2018</td>\n",
       "      <td>casual</td>\n",
       "    </tr>\n",
       "  </tbody>\n",
       "</table>\n",
       "</div>"
      ],
      "text/plain": [
       "   precio  acceso_anticipado sentimiento metascore   año categoria\n",
       "0    4.99                  0        None      None  2018    action\n",
       "5    4.99                  0        None      None  2018    casual"
      ]
     },
     "execution_count": 62,
     "metadata": {},
     "output_type": "execute_result"
    }
   ],
   "source": [
    "df.head(2)"
   ]
  },
  {
   "cell_type": "code",
   "execution_count": 63,
   "metadata": {},
   "outputs": [
    {
     "data": {
      "text/plain": [
       "array([None, 'neutro', 'muy positivo', 'positivo', 'negativo',\n",
       "       'muy negativo'], dtype=object)"
      ]
     },
     "execution_count": 63,
     "metadata": {},
     "output_type": "execute_result"
    }
   ],
   "source": [
    "df['sentimiento'].unique()"
   ]
  },
  {
   "cell_type": "code",
   "execution_count": 64,
   "metadata": {},
   "outputs": [
    {
     "data": {
      "image/png": "[encoded data removed]",
      "text/plain": [
       "<Figure size 1000x600 with 1 Axes>"
      ]
     },
     "metadata": {},
     "output_type": "display_data"
    }
   ],
   "source": [
    "# Filtra los datos para eliminar los valores nulos en las columnas de interés\n",
    "df_metascore = df.dropna(subset=['precio', 'metascore'])\n",
    "\n",
    "# Aplicar el estilo dark_background\n",
    "plt.style.use('dark_background')\n",
    "\n",
    "# Crear el gráfico de dispersión con colores personalizados\n",
    "plt.figure(figsize=(10, 6))\n",
    "plt.scatter(df_metascore['metascore'], df_metascore['precio'], alpha=0.5, c='#F29F05')\n",
    "plt.xlabel('Metascore', color='white')\n",
    "plt.ylabel('Precio', color='white')\n",
    "plt.grid(True, color='white', linestyle='--', linewidth=0.5)\n",
    "plt.tick_params(axis='x', colors='white')\n",
    "plt.tick_params(axis='y', colors='white')\n",
    "plt.title('Relación entre precio y metascore', color='white')\n",
    "\n",
    "\n",
    "# Mostrar el gráfico\n",
    "plt.show()"
   ]
  },
  {
   "cell_type": "code",
   "execution_count": 65,
   "metadata": {},
   "outputs": [],
   "source": [
    "# Elimina nulos de la base de datos\n",
    "df = df.dropna()"
   ]
  },
  {
   "cell_type": "code",
   "execution_count": 66,
   "metadata": {},
   "outputs": [
    {
     "data": {
      "text/html": [
       "<div>\n",
       "<style scoped>\n",
       "    .dataframe tbody tr th:only-of-type {\n",
       "        vertical-align: middle;\n",
       "    }\n",
       "\n",
       "    .dataframe tbody tr th {\n",
       "        vertical-align: top;\n",
       "    }\n",
       "\n",
       "    .dataframe thead th {\n",
       "        text-align: right;\n",
       "    }\n",
       "</style>\n",
       "<table border=\"1\" class=\"dataframe\">\n",
       "  <thead>\n",
       "    <tr style=\"text-align: right;\">\n",
       "      <th></th>\n",
       "      <th>precio</th>\n",
       "      <th>acceso_anticipado</th>\n",
       "      <th>sentimiento</th>\n",
       "      <th>metascore</th>\n",
       "      <th>año</th>\n",
       "      <th>categoria</th>\n",
       "    </tr>\n",
       "  </thead>\n",
       "  <tbody>\n",
       "    <tr>\n",
       "      <th>1465</th>\n",
       "      <td>9.99</td>\n",
       "      <td>0</td>\n",
       "      <td>muy positivo</td>\n",
       "      <td>96</td>\n",
       "      <td>1998</td>\n",
       "      <td>action</td>\n",
       "    </tr>\n",
       "    <tr>\n",
       "      <th>1648</th>\n",
       "      <td>6.99</td>\n",
       "      <td>0</td>\n",
       "      <td>positivo</td>\n",
       "      <td>84</td>\n",
       "      <td>2006</td>\n",
       "      <td>strategy</td>\n",
       "    </tr>\n",
       "  </tbody>\n",
       "</table>\n",
       "</div>"
      ],
      "text/plain": [
       "      precio  acceso_anticipado   sentimiento metascore   año categoria\n",
       "1465    9.99                  0  muy positivo        96  1998    action\n",
       "1648    6.99                  0      positivo        84  2006  strategy"
      ]
     },
     "execution_count": 66,
     "metadata": {},
     "output_type": "execute_result"
    }
   ],
   "source": [
    "df.head(2)"
   ]
  },
  {
   "cell_type": "code",
   "execution_count": 67,
   "metadata": {},
   "outputs": [],
   "source": [
    "# Encoding categorpia\n",
    "encoder = LabelEncoder()\n",
    "df['categoria_n'] = encoder.fit_transform(df['categoria'])\n",
    "\n",
    "# Encoding sentimiento\n",
    "encoder = LabelEncoder()\n",
    "df['sentimiento_n'] = encoder.fit_transform(df['sentimiento'])"
   ]
  },
  {
   "cell_type": "code",
   "execution_count": 68,
   "metadata": {},
   "outputs": [
    {
     "data": {
      "text/html": [
       "<div>\n",
       "<style scoped>\n",
       "    .dataframe tbody tr th:only-of-type {\n",
       "        vertical-align: middle;\n",
       "    }\n",
       "\n",
       "    .dataframe tbody tr th {\n",
       "        vertical-align: top;\n",
       "    }\n",
       "\n",
       "    .dataframe thead th {\n",
       "        text-align: right;\n",
       "    }\n",
       "</style>\n",
       "<table border=\"1\" class=\"dataframe\">\n",
       "  <thead>\n",
       "    <tr style=\"text-align: right;\">\n",
       "      <th></th>\n",
       "      <th>categoria</th>\n",
       "      <th>categoria_n</th>\n",
       "    </tr>\n",
       "  </thead>\n",
       "  <tbody>\n",
       "    <tr>\n",
       "      <th>1465</th>\n",
       "      <td>action</td>\n",
       "      <td>11</td>\n",
       "    </tr>\n",
       "    <tr>\n",
       "      <th>1648</th>\n",
       "      <td>strategy</td>\n",
       "      <td>290</td>\n",
       "    </tr>\n",
       "  </tbody>\n",
       "</table>\n",
       "</div>"
      ],
      "text/plain": [
       "     categoria  categoria_n\n",
       "1465    action           11\n",
       "1648  strategy          290"
      ]
     },
     "execution_count": 68,
     "metadata": {},
     "output_type": "execute_result"
    }
   ],
   "source": [
    "# Crea el dataset de categoría\n",
    "df_categoria = df[['categoria', 'categoria_n']].drop_duplicates().dropna()\n",
    "df_categoria.head(2)"
   ]
  },
  {
   "cell_type": "code",
   "execution_count": 69,
   "metadata": {},
   "outputs": [
    {
     "data": {
      "text/html": [
       "<div>\n",
       "<style scoped>\n",
       "    .dataframe tbody tr th:only-of-type {\n",
       "        vertical-align: middle;\n",
       "    }\n",
       "\n",
       "    .dataframe tbody tr th {\n",
       "        vertical-align: top;\n",
       "    }\n",
       "\n",
       "    .dataframe thead th {\n",
       "        text-align: right;\n",
       "    }\n",
       "</style>\n",
       "<table border=\"1\" class=\"dataframe\">\n",
       "  <thead>\n",
       "    <tr style=\"text-align: right;\">\n",
       "      <th></th>\n",
       "      <th>sentimiento</th>\n",
       "      <th>sentimiento_n</th>\n",
       "    </tr>\n",
       "  </thead>\n",
       "  <tbody>\n",
       "    <tr>\n",
       "      <th>1465</th>\n",
       "      <td>muy positivo</td>\n",
       "      <td>1</td>\n",
       "    </tr>\n",
       "    <tr>\n",
       "      <th>1648</th>\n",
       "      <td>positivo</td>\n",
       "      <td>4</td>\n",
       "    </tr>\n",
       "  </tbody>\n",
       "</table>\n",
       "</div>"
      ],
      "text/plain": [
       "       sentimiento  sentimiento_n\n",
       "1465  muy positivo              1\n",
       "1648      positivo              4"
      ]
     },
     "execution_count": 69,
     "metadata": {},
     "output_type": "execute_result"
    }
   ],
   "source": [
    "# Crea el dataset de sentimiento\n",
    "df_sentimiento = df[['sentimiento', 'sentimiento_n']].drop_duplicates().dropna()\n",
    "df_sentimiento.head(2)"
   ]
  },
  {
   "cell_type": "code",
   "execution_count": 70,
   "metadata": {},
   "outputs": [
    {
     "data": {
      "text/html": [
       "<div>\n",
       "<style scoped>\n",
       "    .dataframe tbody tr th:only-of-type {\n",
       "        vertical-align: middle;\n",
       "    }\n",
       "\n",
       "    .dataframe tbody tr th {\n",
       "        vertical-align: top;\n",
       "    }\n",
       "\n",
       "    .dataframe thead th {\n",
       "        text-align: right;\n",
       "    }\n",
       "</style>\n",
       "<table border=\"1\" class=\"dataframe\">\n",
       "  <thead>\n",
       "    <tr style=\"text-align: right;\">\n",
       "      <th></th>\n",
       "      <th>precio</th>\n",
       "      <th>acceso_anticipado</th>\n",
       "      <th>metascore</th>\n",
       "      <th>año</th>\n",
       "      <th>categoria_n</th>\n",
       "      <th>sentimiento_n</th>\n",
       "    </tr>\n",
       "  </thead>\n",
       "  <tbody>\n",
       "    <tr>\n",
       "      <th>1465</th>\n",
       "      <td>9.99</td>\n",
       "      <td>0</td>\n",
       "      <td>96</td>\n",
       "      <td>1998</td>\n",
       "      <td>11</td>\n",
       "      <td>1</td>\n",
       "    </tr>\n",
       "    <tr>\n",
       "      <th>1648</th>\n",
       "      <td>6.99</td>\n",
       "      <td>0</td>\n",
       "      <td>84</td>\n",
       "      <td>2006</td>\n",
       "      <td>290</td>\n",
       "      <td>4</td>\n",
       "    </tr>\n",
       "    <tr>\n",
       "      <th>1687</th>\n",
       "      <td>6.99</td>\n",
       "      <td>0</td>\n",
       "      <td>80</td>\n",
       "      <td>2006</td>\n",
       "      <td>290</td>\n",
       "      <td>1</td>\n",
       "    </tr>\n",
       "    <tr>\n",
       "      <th>1711</th>\n",
       "      <td>9.99</td>\n",
       "      <td>0</td>\n",
       "      <td>76</td>\n",
       "      <td>2006</td>\n",
       "      <td>11</td>\n",
       "      <td>1</td>\n",
       "    </tr>\n",
       "    <tr>\n",
       "      <th>1791</th>\n",
       "      <td>9.99</td>\n",
       "      <td>0</td>\n",
       "      <td>76</td>\n",
       "      <td>2006</td>\n",
       "      <td>144</td>\n",
       "      <td>1</td>\n",
       "    </tr>\n",
       "    <tr>\n",
       "      <th>...</th>\n",
       "      <td>...</td>\n",
       "      <td>...</td>\n",
       "      <td>...</td>\n",
       "      <td>...</td>\n",
       "      <td>...</td>\n",
       "      <td>...</td>\n",
       "    </tr>\n",
       "    <tr>\n",
       "      <th>5257645</th>\n",
       "      <td>14.99</td>\n",
       "      <td>0</td>\n",
       "      <td>93</td>\n",
       "      <td>2004</td>\n",
       "      <td>186</td>\n",
       "      <td>1</td>\n",
       "    </tr>\n",
       "    <tr>\n",
       "      <th>5257646</th>\n",
       "      <td>14.99</td>\n",
       "      <td>0</td>\n",
       "      <td>93</td>\n",
       "      <td>2004</td>\n",
       "      <td>285</td>\n",
       "      <td>1</td>\n",
       "    </tr>\n",
       "    <tr>\n",
       "      <th>5257698</th>\n",
       "      <td>9.99</td>\n",
       "      <td>0</td>\n",
       "      <td>65</td>\n",
       "      <td>2004</td>\n",
       "      <td>267</td>\n",
       "      <td>1</td>\n",
       "    </tr>\n",
       "    <tr>\n",
       "      <th>5257699</th>\n",
       "      <td>9.99</td>\n",
       "      <td>0</td>\n",
       "      <td>65</td>\n",
       "      <td>2004</td>\n",
       "      <td>186</td>\n",
       "      <td>1</td>\n",
       "    </tr>\n",
       "    <tr>\n",
       "      <th>5257700</th>\n",
       "      <td>9.99</td>\n",
       "      <td>0</td>\n",
       "      <td>65</td>\n",
       "      <td>2004</td>\n",
       "      <td>327</td>\n",
       "      <td>1</td>\n",
       "    </tr>\n",
       "  </tbody>\n",
       "</table>\n",
       "<p>36545 rows × 6 columns</p>\n",
       "</div>"
      ],
      "text/plain": [
       "         precio  acceso_anticipado metascore   año  categoria_n  sentimiento_n\n",
       "1465       9.99                  0        96  1998           11              1\n",
       "1648       6.99                  0        84  2006          290              4\n",
       "1687       6.99                  0        80  2006          290              1\n",
       "1711       9.99                  0        76  2006           11              1\n",
       "1791       9.99                  0        76  2006          144              1\n",
       "...         ...                ...       ...   ...          ...            ...\n",
       "5257645   14.99                  0        93  2004          186              1\n",
       "5257646   14.99                  0        93  2004          285              1\n",
       "5257698    9.99                  0        65  2004          267              1\n",
       "5257699    9.99                  0        65  2004          186              1\n",
       "5257700    9.99                  0        65  2004          327              1\n",
       "\n",
       "[36545 rows x 6 columns]"
      ]
     },
     "execution_count": 70,
     "metadata": {},
     "output_type": "execute_result"
    }
   ],
   "source": [
    "# Eliminar la columna 'categoria' y 'sentimiento' para el modelo\n",
    "df_modelo = df.drop(['categoria', 'sentimiento'],axis=1)\n",
    "\n",
    "df_modelo"
   ]
  },
  {
   "cell_type": "code",
   "execution_count": 71,
   "metadata": {},
   "outputs": [],
   "source": [
    "df_modelo = df.dropna()"
   ]
  },
  {
   "cell_type": "code",
   "execution_count": 72,
   "metadata": {},
   "outputs": [
    {
     "data": {
      "text/plain": [
       "array(['96', '84', '80', '76', '70', '69', '81', '75', '72', '66', '67',\n",
       "       '77', '91', '89', '83', '88', '65', '94', '57', '86', '87', '92',\n",
       "       '79', '82', '58', '74', '85', '90', '68', '71', '60', '73', '59',\n",
       "       '64', '61', '54', '53', '78', '51', '44', '63', '38', '56', '49',\n",
       "       '52', '62', '93', '48', '34', '95', '55', '24', '46', '41', '20',\n",
       "       '39', '45', '35', '47', '43', '40', '36', '50', '32', '37', '33',\n",
       "       '42', '29', '30'], dtype=object)"
      ]
     },
     "execution_count": 72,
     "metadata": {},
     "output_type": "execute_result"
    }
   ],
   "source": [
    "df_modelo = df[df_modelo['metascore'] != 'na']\n",
    "df_modelo['metascore'].unique()"
   ]
  },
  {
   "cell_type": "code",
   "execution_count": 73,
   "metadata": {},
   "outputs": [],
   "source": [
    "df_modelo = df_modelo.drop(['sentimiento','categoria'],axis=1)"
   ]
  },
  {
   "cell_type": "code",
   "execution_count": 74,
   "metadata": {},
   "outputs": [
    {
     "data": {
      "text/html": [
       "<div>\n",
       "<style scoped>\n",
       "    .dataframe tbody tr th:only-of-type {\n",
       "        vertical-align: middle;\n",
       "    }\n",
       "\n",
       "    .dataframe tbody tr th {\n",
       "        vertical-align: top;\n",
       "    }\n",
       "\n",
       "    .dataframe thead th {\n",
       "        text-align: right;\n",
       "    }\n",
       "</style>\n",
       "<table border=\"1\" class=\"dataframe\">\n",
       "  <thead>\n",
       "    <tr style=\"text-align: right;\">\n",
       "      <th></th>\n",
       "      <th>precio</th>\n",
       "      <th>acceso_anticipado</th>\n",
       "      <th>metascore</th>\n",
       "      <th>año</th>\n",
       "      <th>categoria_n</th>\n",
       "      <th>sentimiento_n</th>\n",
       "    </tr>\n",
       "  </thead>\n",
       "  <tbody>\n",
       "    <tr>\n",
       "      <th>1465</th>\n",
       "      <td>9.99</td>\n",
       "      <td>0</td>\n",
       "      <td>96</td>\n",
       "      <td>1998</td>\n",
       "      <td>11</td>\n",
       "      <td>1</td>\n",
       "    </tr>\n",
       "    <tr>\n",
       "      <th>1648</th>\n",
       "      <td>6.99</td>\n",
       "      <td>0</td>\n",
       "      <td>84</td>\n",
       "      <td>2006</td>\n",
       "      <td>290</td>\n",
       "      <td>4</td>\n",
       "    </tr>\n",
       "  </tbody>\n",
       "</table>\n",
       "</div>"
      ],
      "text/plain": [
       "      precio  acceso_anticipado metascore   año  categoria_n  sentimiento_n\n",
       "1465    9.99                  0        96  1998           11              1\n",
       "1648    6.99                  0        84  2006          290              4"
      ]
     },
     "execution_count": 74,
     "metadata": {},
     "output_type": "execute_result"
    }
   ],
   "source": [
    "df_modelo.head(2)"
   ]
  },
  {
   "cell_type": "code",
   "execution_count": 75,
   "metadata": {},
   "outputs": [
    {
     "data": {
      "text/html": [
       "<div>\n",
       "<style scoped>\n",
       "    .dataframe tbody tr th:only-of-type {\n",
       "        vertical-align: middle;\n",
       "    }\n",
       "\n",
       "    .dataframe tbody tr th {\n",
       "        vertical-align: top;\n",
       "    }\n",
       "\n",
       "    .dataframe thead th {\n",
       "        text-align: right;\n",
       "    }\n",
       "</style>\n",
       "<table border=\"1\" class=\"dataframe\">\n",
       "  <thead>\n",
       "    <tr style=\"text-align: right;\">\n",
       "      <th></th>\n",
       "      <th>categoria</th>\n",
       "      <th>categoria_n</th>\n",
       "    </tr>\n",
       "  </thead>\n",
       "  <tbody>\n",
       "    <tr>\n",
       "      <th>1465</th>\n",
       "      <td>action</td>\n",
       "      <td>11</td>\n",
       "    </tr>\n",
       "    <tr>\n",
       "      <th>1648</th>\n",
       "      <td>strategy</td>\n",
       "      <td>290</td>\n",
       "    </tr>\n",
       "    <tr>\n",
       "      <th>1791</th>\n",
       "      <td>indie</td>\n",
       "      <td>144</td>\n",
       "    </tr>\n",
       "    <tr>\n",
       "      <th>1871</th>\n",
       "      <td>rpg</td>\n",
       "      <td>249</td>\n",
       "    </tr>\n",
       "    <tr>\n",
       "      <th>2423</th>\n",
       "      <td>simulation</td>\n",
       "      <td>266</td>\n",
       "    </tr>\n",
       "  </tbody>\n",
       "</table>\n",
       "</div>"
      ],
      "text/plain": [
       "       categoria  categoria_n\n",
       "1465      action           11\n",
       "1648    strategy          290\n",
       "1791       indie          144\n",
       "1871         rpg          249\n",
       "2423  simulation          266"
      ]
     },
     "execution_count": 75,
     "metadata": {},
     "output_type": "execute_result"
    }
   ],
   "source": [
    "df_categoria.head()"
   ]
  },
  {
   "cell_type": "code",
   "execution_count": 76,
   "metadata": {},
   "outputs": [
    {
     "data": {
      "text/html": [
       "<div>\n",
       "<style scoped>\n",
       "    .dataframe tbody tr th:only-of-type {\n",
       "        vertical-align: middle;\n",
       "    }\n",
       "\n",
       "    .dataframe tbody tr th {\n",
       "        vertical-align: top;\n",
       "    }\n",
       "\n",
       "    .dataframe thead th {\n",
       "        text-align: right;\n",
       "    }\n",
       "</style>\n",
       "<table border=\"1\" class=\"dataframe\">\n",
       "  <thead>\n",
       "    <tr style=\"text-align: right;\">\n",
       "      <th></th>\n",
       "      <th>sentimiento</th>\n",
       "      <th>sentimiento_n</th>\n",
       "    </tr>\n",
       "  </thead>\n",
       "  <tbody>\n",
       "    <tr>\n",
       "      <th>1465</th>\n",
       "      <td>muy positivo</td>\n",
       "      <td>1</td>\n",
       "    </tr>\n",
       "    <tr>\n",
       "      <th>1648</th>\n",
       "      <td>positivo</td>\n",
       "      <td>4</td>\n",
       "    </tr>\n",
       "  </tbody>\n",
       "</table>\n",
       "</div>"
      ],
      "text/plain": [
       "       sentimiento  sentimiento_n\n",
       "1465  muy positivo              1\n",
       "1648      positivo              4"
      ]
     },
     "execution_count": 76,
     "metadata": {},
     "output_type": "execute_result"
    }
   ],
   "source": [
    "df_sentimiento.head(2)"
   ]
  },
  {
   "cell_type": "code",
   "execution_count": 77,
   "metadata": {},
   "outputs": [],
   "source": [
    "#Convertir año a entero\n",
    "df_modelo['año'] = df_modelo['año'].astype(int)\n",
    "\n",
    "#Convertir metascore a entero\n",
    "df_modelo['metascore'] = df_modelo['metascore'].astype(int)"
   ]
  },
  {
   "cell_type": "code",
   "execution_count": 78,
   "metadata": {},
   "outputs": [
    {
     "data": {
      "text/plain": [
       "precio               float64\n",
       "acceso_anticipado      int32\n",
       "metascore              int32\n",
       "año                    int32\n",
       "categoria_n            int32\n",
       "sentimiento_n          int32\n",
       "dtype: object"
      ]
     },
     "execution_count": 78,
     "metadata": {},
     "output_type": "execute_result"
    }
   ],
   "source": [
    "df_modelo.dtypes"
   ]
  },
  {
   "cell_type": "code",
   "execution_count": 79,
   "metadata": {},
   "outputs": [],
   "source": [
    "# Guarda los archivos con los dataset\n",
    "df_modelo.to_parquet('../data/modelo.parquet')\n",
    "df_categoria.to_parquet('../data/categoria_modelo.parquet')\n",
    "df_sentimiento.to_parquet('../data/sentimiento_modelo.parquet')"
   ]
  }
 ],
 "metadata": {
  "kernelspec": {
   "display_name": "venv",
   "language": "python",
   "name": "python3"
  },
  "language_info": {
   "codemirror_mode": {
    "name": "ipython",
    "version": 3
   },
   "file_extension": ".py",
   "mimetype": "text/x-python",
   "name": "python",
   "nbconvert_exporter": "python",
   "pygments_lexer": "ipython3",
   "version": "3.10.9"
  },
  "orig_nbformat": 4
 },
 "nbformat": 4,
 "nbformat_minor": 2
}
